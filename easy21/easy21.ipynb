{
 "cells": [
  {
   "cell_type": "markdown",
   "id": "7f04da77-877b-495b-bc4b-c1ebb0aa0040",
   "metadata": {},
   "source": [
    "# Easy21 Environment"
   ]
  },
  {
   "cell_type": "code",
   "execution_count": 1,
   "id": "c372b644-df0d-4f58-a4bd-8ab2188ead91",
   "metadata": {},
   "outputs": [],
   "source": [
    "import easy21"
   ]
  },
  {
   "cell_type": "markdown",
   "id": "8e32eef4-0450-4f3c-834c-cf25b7a12c64",
   "metadata": {},
   "source": [
    "## Initialization"
   ]
  },
  {
   "cell_type": "code",
   "execution_count": 2,
   "id": "6a24da23-5b71-4196-b60d-38af29a335a3",
   "metadata": {},
   "outputs": [],
   "source": [
    "env = easy21.Easy21()"
   ]
  },
  {
   "cell_type": "code",
   "execution_count": 6,
   "id": "1a894a34-4d92-4ec7-91cf-67c8cc2ae896",
   "metadata": {},
   "outputs": [
    {
     "data": {
      "text/plain": [
       "(6, 2)"
      ]
     },
     "execution_count": 6,
     "metadata": {},
     "output_type": "execute_result"
    }
   ],
   "source": [
    "dealer_initial, player_initial = env.draw_first_card(), env.draw_first_card()\n",
    "player_initial, dealer_initial"
   ]
  },
  {
   "cell_type": "markdown",
   "id": "b0d9f6db-f1ac-4c33-b0e0-a9f57e21ac5d",
   "metadata": {},
   "source": [
    "## Always Play Stick"
   ]
  },
  {
   "cell_type": "code",
   "execution_count": 7,
   "id": "3435b2b9-4996-4f8b-bdf1-1bd1afdd5b57",
   "metadata": {},
   "outputs": [
    {
     "data": {
      "text/plain": [
       "(6, 1, -1, True)"
      ]
     },
     "execution_count": 7,
     "metadata": {},
     "output_type": "execute_result"
    }
   ],
   "source": [
    "player, dealer = player_initial, dealer_initial\n",
    "player, reward, dealer, end = env.step(dealer, player, \"stick\")\n",
    "player, reward, dealer, end"
   ]
  },
  {
   "cell_type": "markdown",
   "id": "298d97b1-a586-4dc8-b0a5-f8e341005609",
   "metadata": {},
   "source": [
    "## Always Play Hit"
   ]
  },
  {
   "cell_type": "code",
   "execution_count": 29,
   "id": "bb6c2839-72f5-42f9-9154-eeb21d188912",
   "metadata": {},
   "outputs": [
    {
     "data": {
      "text/plain": [
       "(8, 0, 2, False)"
      ]
     },
     "execution_count": 29,
     "metadata": {},
     "output_type": "execute_result"
    }
   ],
   "source": [
    "player, dealer = player_initial, dealer_initial\n",
    "player, reward, dealer, end = env.step(dealer, player, \"hit\")\n",
    "player, reward, dealer, end"
   ]
  },
  {
   "cell_type": "code",
   "execution_count": null,
   "id": "435ade1c-8683-463e-a03b-f038fc424048",
   "metadata": {},
   "outputs": [],
   "source": []
  }
 ],
 "metadata": {
  "kernelspec": {
   "display_name": "Python 3 (ipykernel)",
   "language": "python",
   "name": "python3"
  },
  "language_info": {
   "codemirror_mode": {
    "name": "ipython",
    "version": 3
   },
   "file_extension": ".py",
   "mimetype": "text/x-python",
   "name": "python",
   "nbconvert_exporter": "python",
   "pygments_lexer": "ipython3",
   "version": "3.13.7"
  }
 },
 "nbformat": 4,
 "nbformat_minor": 5
}
