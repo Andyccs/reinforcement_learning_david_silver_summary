{
 "cells": [
  {
   "cell_type": "markdown",
   "id": "7f04da77-877b-495b-bc4b-c1ebb0aa0040",
   "metadata": {},
   "source": [
    "# Easy21 Environment"
   ]
  },
  {
   "cell_type": "code",
   "execution_count": null,
   "id": "c372b644-df0d-4f58-a4bd-8ab2188ead91",
   "metadata": {},
   "outputs": [],
   "source": [
    "import easy21"
   ]
  },
  {
   "cell_type": "markdown",
   "id": "8e32eef4-0450-4f3c-834c-cf25b7a12c64",
   "metadata": {},
   "source": [
    "## Initialization"
   ]
  },
  {
   "cell_type": "code",
   "execution_count": null,
   "id": "6a24da23-5b71-4196-b60d-38af29a335a3",
   "metadata": {},
   "outputs": [],
   "source": [
    "env = easy21.Easy21()"
   ]
  },
  {
   "cell_type": "code",
   "execution_count": null,
   "id": "1a894a34-4d92-4ec7-91cf-67c8cc2ae896",
   "metadata": {},
   "outputs": [],
   "source": [
    "dealer_initial, player_initial = env.draw_first_card(), env.draw_first_card()\n",
    "player_initial, dealer_initial"
   ]
  },
  {
   "cell_type": "markdown",
   "id": "b0d9f6db-f1ac-4c33-b0e0-a9f57e21ac5d",
   "metadata": {},
   "source": [
    "## Always Play Stick"
   ]
  },
  {
   "cell_type": "code",
   "execution_count": null,
   "id": "3435b2b9-4996-4f8b-bdf1-1bd1afdd5b57",
   "metadata": {},
   "outputs": [],
   "source": [
    "player, dealer = player_initial, dealer_initial\n",
    "player, reward, dealer, end = env.step(dealer, player, \"stick\")\n",
    "player, reward, dealer, end"
   ]
  },
  {
   "cell_type": "markdown",
   "id": "298d97b1-a586-4dc8-b0a5-f8e341005609",
   "metadata": {},
   "source": [
    "## Always Play Hit"
   ]
  },
  {
   "cell_type": "code",
   "execution_count": null,
   "id": "bb6c2839-72f5-42f9-9154-eeb21d188912",
   "metadata": {},
   "outputs": [],
   "source": [
    "player, dealer = player_initial, dealer_initial\n",
    "player, reward, dealer, end = env.step(dealer, player, \"hit\")\n",
    "player, reward, dealer, end"
   ]
  },
  {
   "cell_type": "markdown",
   "id": "dddd0581-da10-4425-a228-81e63a992d39",
   "metadata": {},
   "source": [
    "# Monte-Carlo Control"
   ]
  },
  {
   "cell_type": "code",
   "execution_count": null,
   "id": "1c984c8e-52d4-40be-a33c-22b05ae71a0f",
   "metadata": {},
   "outputs": [],
   "source": [
    "import learning"
   ]
  },
  {
   "cell_type": "markdown",
   "id": "3a522806-9c7f-4e47-afa5-53390310b11f",
   "metadata": {},
   "source": [
    "## Simple Testing for Epsilon Greedy Policy"
   ]
  },
  {
   "cell_type": "code",
   "execution_count": null,
   "id": "754b69b1-a42a-4276-bd8f-bbeb6ec7fbc5",
   "metadata": {},
   "outputs": [],
   "source": [
    "learning.epsilon_greedy_policy(0, 0, {\n",
    "    (0, 0, \"hit\"): 1,\n",
    "    (0, 0, \"stick\"): 1,\n",
    "})"
   ]
  },
  {
   "cell_type": "markdown",
   "id": "50bf0f22-b5ba-4835-b6f5-248231b4d7df",
   "metadata": {},
   "source": [
    "## Monte-Carlo Control Algorithm"
   ]
  },
  {
   "cell_type": "code",
   "execution_count": null,
   "id": "2059b46d-6334-455b-ba51-ec3ce787a83b",
   "metadata": {},
   "outputs": [],
   "source": [
    "q_state_action = learning.monte_carlo_control(episodes=1_000_000)\n",
    "value_function = learning.q_to_value_function(q_state_action)\n",
    "policy = learning.q_to_policy(q_state_action)"
   ]
  },
  {
   "cell_type": "code",
   "execution_count": null,
   "id": "4651bf0a-f1db-455b-aad9-971297f4ec3e",
   "metadata": {},
   "outputs": [],
   "source": [
    "learning.plot_value_function(value_function)"
   ]
  },
  {
   "cell_type": "code",
   "execution_count": null,
   "id": "f2284696-ef14-4fb7-be2b-8aa6b7bf41bc",
   "metadata": {},
   "outputs": [],
   "source": [
    "learning.plot_q_function(q_state_action)"
   ]
  },
  {
   "cell_type": "markdown",
   "id": "16772fb8-f78d-42f3-bac0-17fad158b1b9",
   "metadata": {},
   "source": [
    "If dealer showing 10 and player sum is currently 21, should they player stick to its current sum or hit another card? The player should stick because `q_state_action[(9, 21, \"stick\")] > q_state_action[(9, 21, \"hit\")]`"
   ]
  },
  {
   "cell_type": "code",
   "execution_count": null,
   "id": "8a84bcc1-1141-4dce-a4ac-ba6fb37809eb",
   "metadata": {},
   "outputs": [],
   "source": [
    "print(q_state_action[(9, 21, \"stick\")])\n",
    "print(q_state_action[(9, 21, \"hit\")])\n",
    "print(q_state_action[(9, 21, \"stick\")] > q_state_action[(9, 21, \"hit\")])"
   ]
  },
  {
   "cell_type": "code",
   "execution_count": null,
   "id": "2f4c1564-319d-4711-8444-0c408907d628",
   "metadata": {},
   "outputs": [],
   "source": [
    "learning.plot_policy(policy)"
   ]
  }
 ],
 "metadata": {
  "kernelspec": {
   "display_name": "Python 3 (ipykernel)",
   "language": "python",
   "name": "python3"
  },
  "language_info": {
   "codemirror_mode": {
    "name": "ipython",
    "version": 3
   },
   "file_extension": ".py",
   "mimetype": "text/x-python",
   "name": "python",
   "nbconvert_exporter": "python",
   "pygments_lexer": "ipython3",
   "version": "3.13.7"
  }
 },
 "nbformat": 4,
 "nbformat_minor": 5
}
